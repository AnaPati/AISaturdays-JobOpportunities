{
  "cells": [
    {
      "cell_type": "code",
      "execution_count": 1,
      "metadata": {
        "id": "f3DRQAdMqUIo"
      },
      "outputs": [],
      "source": [
        "# Connection with Google Drive\n",
        "from google.colab import drive\n",
        " \n",
        "#drive.mount('/content/drive')"
      ]
    },
    {
      "cell_type": "code",
      "execution_count": 2,
      "metadata": {
        "colab": {
          "base_uri": "https://localhost:8080/"
        },
        "id": "OjqJpClG8KSA",
        "outputId": "3f39c46c-6259-48dc-a281-73d9c5e5140d"
      },
      "outputs": [
        {
          "output_type": "stream",
          "name": "stdout",
          "text": [
            "Looking in indexes: https://pypi.org/simple, https://us-python.pkg.dev/colab-wheels/public/simple/\n",
            "Requirement already satisfied: lazypredict in /usr/local/lib/python3.8/dist-packages (0.2.12)\n",
            "Requirement already satisfied: xgboost in /usr/local/lib/python3.8/dist-packages (from lazypredict) (0.90)\n",
            "Requirement already satisfied: click in /usr/local/lib/python3.8/dist-packages (from lazypredict) (7.1.2)\n",
            "Requirement already satisfied: joblib in /usr/local/lib/python3.8/dist-packages (from lazypredict) (1.2.0)\n",
            "Requirement already satisfied: lightgbm in /usr/local/lib/python3.8/dist-packages (from lazypredict) (2.2.3)\n",
            "Requirement already satisfied: pandas in /usr/local/lib/python3.8/dist-packages (from lazypredict) (1.3.5)\n",
            "Requirement already satisfied: tqdm in /usr/local/lib/python3.8/dist-packages (from lazypredict) (4.64.1)\n",
            "Requirement already satisfied: scikit-learn in /usr/local/lib/python3.8/dist-packages (from lazypredict) (1.0.2)\n",
            "Requirement already satisfied: numpy in /usr/local/lib/python3.8/dist-packages (from lightgbm->lazypredict) (1.21.6)\n",
            "Requirement already satisfied: scipy in /usr/local/lib/python3.8/dist-packages (from lightgbm->lazypredict) (1.7.3)\n",
            "Requirement already satisfied: python-dateutil>=2.7.3 in /usr/local/lib/python3.8/dist-packages (from pandas->lazypredict) (2.8.2)\n",
            "Requirement already satisfied: pytz>=2017.3 in /usr/local/lib/python3.8/dist-packages (from pandas->lazypredict) (2022.7)\n",
            "Requirement already satisfied: threadpoolctl>=2.0.0 in /usr/local/lib/python3.8/dist-packages (from scikit-learn->lazypredict) (3.1.0)\n",
            "Requirement already satisfied: six>=1.5 in /usr/local/lib/python3.8/dist-packages (from python-dateutil>=2.7.3->pandas->lazypredict) (1.15.0)\n",
            "Looking in indexes: https://pypi.org/simple, https://us-python.pkg.dev/colab-wheels/public/simple/\n",
            "Requirement already satisfied: joblib in /usr/local/lib/python3.8/dist-packages (1.2.0)\n"
          ]
        }
      ],
      "source": [
        "# Installation of packages\n",
        "!pip install lazypredict\n",
        "!pip install joblib"
      ]
    },
    {
      "cell_type": "code",
      "execution_count": 3,
      "metadata": {
        "id": "HPrtbKsQ5_LW"
      },
      "outputs": [],
      "source": [
        "#Import packages\n",
        "from google.colab import files\n",
        "\n",
        "# Common packages\n",
        "import io\n",
        "import pandas as pd\n",
        "import numpy as np\n",
        "import json\n",
        "import re\n",
        "from random import randint\n",
        "import matplotlib.pyplot as plt\n",
        "import gzip\n",
        "\n",
        "# ML packages\n",
        "import lazypredict\n",
        "from lazypredict.Supervised import LazyRegressor\n",
        "from sklearn import datasets\n",
        "from sklearn.utils import shuffle\n",
        "from sklearn.model_selection import train_test_split\n",
        "from sklearn.utils import all_estimators\n",
        "from sklearn.base import RegressorMixin\n",
        "from sklearn.ensemble import HistGradientBoostingRegressor, RandomForestRegressor, GradientBoostingRegressor\n",
        "from sklearn.compose import ColumnTransformer\n",
        "from sklearn.preprocessing import OneHotEncoder\n",
        "from sklearn.feature_selection import SelectKBest, f_regression, mutual_info_regression\n",
        "\n",
        "import skops.io as sio\n",
        "import joblib"
      ]
    },
    {
      "cell_type": "code",
      "execution_count": 4,
      "metadata": {
        "id": "Jh98AL4zunrF"
      },
      "outputs": [],
      "source": [
        "# System hyperparameters\n",
        "relevance_amount = 0              # Amount of appearances indataset rows that a particular ability should have to be considered relevant and therefore picked up as a feature\n",
        "test_set_size = 0.2               # Percentage of data to use as test set\n",
        "relevant_features_salary = 40     # Relevant number of features to be taken, for salary inference\n",
        "relevant_features_rating = 60     # Relevant number of features to be taken, for salary inference"
      ]
    },
    {
      "cell_type": "code",
      "execution_count": 5,
      "metadata": {
        "id": "jDWi11dYr_BK"
      },
      "outputs": [],
      "source": [
        "# Load and concat three original datasets\n",
        "\n",
        "df1 = pd.read_csv('data/DataAnalyst.csv')\n",
        "df1['scope_DataAnalyst'] = 1.0\n",
        "df1['scope_DataEngineer'] = 0.0\n",
        "df1['scope_DataScientist'] = 0.0\n",
        "\n",
        "df2 = pd.read_csv('data/DataEngineer.csv')\n",
        "df2['scope_DataAnalyst'] = 0.0\n",
        "df2['scope_DataEngineer'] = 1.0\n",
        "df2['scope_DataScientist'] = 0.0\n",
        "\n",
        "df3 = pd.read_csv('data/DataScientist.csv')\n",
        "df3['scope_DataAnalyst'] = 0.0\n",
        "df3['scope_DataEngineer'] = 0.0\n",
        "df3['scope_DataScientist'] = 1.0\n",
        "\n",
        "df = pd.concat([df1, df2, df3])\n",
        "\n",
        "#df"
      ]
    },
    {
      "cell_type": "code",
      "execution_count": 6,
      "metadata": {
        "id": "sg4XpUX30jmh"
      },
      "outputs": [],
      "source": [
        "# Getting and saving at a file all words appearances at Job Description column - for data exploration purposes\n",
        "\n",
        "stopwords = set(line.strip() for line in open('data/stopwords.txt'))\n",
        "\n",
        "wordcount = {}\n",
        "for desc in df[\"Job Description\"].values.tolist():\n",
        "  desc_count = []\n",
        "  desc = desc.replace(\".\",\"\")\n",
        "  desc = desc.replace(\",\",\"\")\n",
        "  desc = desc.replace(\":\",\"\")\n",
        "  desc = desc.replace(\"\\\"\",\"\")\n",
        "  desc = desc.replace(\"!\",\"\")\n",
        "  desc = desc.replace(\"â€œ\",\"\")\n",
        "  desc = desc.replace(\"â€˜\",\"\")\n",
        "  desc = desc.replace(\"*\",\"\")\n",
        "\n",
        "  for word in desc.lower().split():\n",
        "    if word not in stopwords:\n",
        "        if word not in desc_count:\n",
        "            desc_count.append(word)\n",
        "\n",
        "  for word in desc_count:\n",
        "    if word not in wordcount:\n",
        "      wordcount[word] = 1\n",
        "    else:\n",
        "      wordcount[word] += 1\n",
        "\n",
        "  \n",
        "ordered_wordcount = dict(sorted(wordcount.items(), key=lambda x:x[1], reverse=True))\n",
        "ordered_wordcount = {key:val for key, val in ordered_wordcount.items() if val > relevance_amount}\n",
        "\n",
        "def count_word_appearances(row, col):\n",
        "  desc_count = []\n",
        "  desc = row[col]\n",
        "  desc = desc.replace(\".\",\"\")\n",
        "  desc = desc.replace(\",\",\"\")\n",
        "  desc = desc.replace(\":\",\"\")\n",
        "  desc = desc.replace(\"\\\"\",\"\")\n",
        "  desc = desc.replace(\"!\",\"\")\n",
        "  desc = desc.replace(\"â€œ\",\"\")\n",
        "  desc = desc.replace(\"â€˜\",\"\")\n",
        "  desc = desc.replace(\"*\",\"\")\n",
        "\n",
        "  for word in desc.lower().split():\n",
        "    if word not in stopwords:\n",
        "        if word not in desc_count:\n",
        "            desc_count.append(word)\n",
        "\n",
        "  return ',' + ','.join(desc_count) + ','\n",
        "\n",
        "\n",
        "#ordered_wordcount = count_word_appearances(df)\n",
        "\n",
        "df['desc_words'] = df.apply(lambda row: count_word_appearances(row, 'Job Description') , axis=1)\n",
        "\n",
        "with open('output/ordered_wordcount.json', \"w\") as fp:\n",
        "    json.dump(ordered_wordcount,fp) \n",
        "\n",
        "#ordered_wordcount"
      ]
    },
    {
      "cell_type": "code",
      "execution_count": 7,
      "metadata": {
        "id": "D7ZIQPYiBhzO"
      },
      "outputs": [],
      "source": [
        "# Data cleaning\n",
        "\n",
        "# Drop useless columns\n",
        "df = df.drop(columns=['Unnamed: 0', 'Company Name', 'Founded', 'Type of ownership', 'Industry', 'Sector', 'Revenue', 'Competitors', 'Easy Apply', 'index'], errors='ignore')\n",
        "\n",
        "# Deleting entries without salary estimation\n",
        "df = df[df['Salary Estimate'] != '-1']\n",
        "df = df[df['Salary Estimate'].str.contains('Hour')==False]\n",
        "\n",
        "# Deleting entries with 'United Kingdom' as Location\n",
        "\n",
        "df = df[df['Location'].str.contains('United Kingdom') == False]\n",
        "\n",
        "#df"
      ]
    },
    {
      "cell_type": "code",
      "execution_count": 8,
      "metadata": {
        "id": "c4fRw-_wQ0ow"
      },
      "outputs": [],
      "source": [
        "# Modifying features\n",
        "\n",
        "# Adding 'salary' feature (average salary estimated by Glassdoor)\n",
        "def get_salary(row, col):\n",
        "  low_income = float(re.sub(\"[\\$K]\", \"\", row[col].split('-')[0]))\n",
        "  high_income = float(re.sub(\"[\\$K]\", \"\", row[col].split('-')[1].split('(')[0]))\n",
        "  return (low_income + high_income)/2\n",
        "\n",
        "df['salary'] = df.apply(lambda row: get_salary(row, 'Salary Estimate') , axis=1)\n",
        "\n",
        "# Modifying Location column\n",
        "\n",
        "# Inspecting locations\n",
        "locations = df['Location'].value_counts().to_dict()\n",
        "locations = list({k: locations[k] for k in list(locations)[:20]}.keys())\n",
        "#print(locations)\n",
        "\n",
        "# Only 20 more frequent locations are admitted as valid categories; the rest will be to \"Rest of XX\" (in the case of NY, IL, TX, CA, PA, AZ, FL and OH) \n",
        "# or to the 'State of XX' otherwise, being XX the symbol of the state\n",
        "\n",
        "big_states = [ 'NY', 'IL', 'TX', 'CA', 'PA', 'AZ', 'FL', 'OH' ]\n",
        "\n",
        "def transform_location(row, col, locations):\n",
        "  if row[col] not in locations:\n",
        "    state = row[col].split(', ')[-1]\n",
        "    if state in big_states:\n",
        "      return 'Rest of ' + state\n",
        "    else:\n",
        "      return 'State of ' + state\n",
        "  else:\n",
        "    return row[col]\n",
        "\n",
        "df['location_cat'] = df.apply(lambda row: transform_location(row, 'Location', locations) , axis=1)\n",
        "df['location_cat'] = df['location_cat'].astype(\"category\")\n",
        "\n",
        "#print(df['location_cat'].value_counts())\n",
        "#print(df)"
      ]
    },
    {
      "cell_type": "code",
      "execution_count": 9,
      "metadata": {
        "id": "0Q3HzWVHv0Kh"
      },
      "outputs": [],
      "source": [
        "# Ad hoc inclusion of words already present at desc_words column (containing all the words of the register)\n",
        "\n",
        "def get_word(row, col, word):  \n",
        "  return float(str(row[col]).lower().find(word) != -1)\n",
        "\n",
        "ad_hoc_terms = ['statistics', 'testing', 'devops', 'javascript', 'php', 'c++', 'html', 'css', 'typescript', 'matlab', 'scala', 'nosql', 'perl', 'django', 'react', \n",
        "                'mathematica', 'cybersecurity', 'java', 'dataflow', 'docker', 'kubernetes', 'talend', 'onbase', 'redshift', 'bigquery', \n",
        "                'mysql', 'snowflake', 'qliksense', 'c#', 'ruby', 'octave', 'kotlin', 'swift', 'rust', 'mathematics', 'physics', 'etl', 'spark', 'ggplot', 'scikit-learn', \n",
        "                'tableau', 'jupyter', 'anaconda', 'matplotlib', 'nltk', 'nlp', 'tensorflow', 'scikit', 'pandas', 'weka', 'spss', 'julia', 'keras', 'numpy', 'pytorch', \n",
        "                'scipy', 'sagemaker', 'scrapy', 'knime', 'hadoop', 'rapidminer', 'flink', 'mongodb', 'minitab', 'datarobot', 'azure', 'qlikview', 'ssrs', \n",
        "                'trifacta', 'alteryx', 'altair', 'databricks', 'dataiku', 'powerpoint', 'linux', 'biostatistics', 'epidemiology', 'agile', 'phd', 'kafka', 'sas', \n",
        "                'oracle', 'git', 'airflow', 'rails', 'kinesis', 'dynamodb', 'glue', 'athena', 'kinesis', 'ec2', 'jira', 'cassandra', 'gcp', 'heroku', 'scrum', 'windows', \n",
        "                'sql', 'unix', 'jenkins', 'teradata', 'hbase', 'flume', 'presto', 'sap', \"ci/cd\", 'ssis', 'pyspark', 'rds', 'powerbi', 'bash', 'visio', 'rdbms', 'hdfs']\n",
        "\n",
        "for term in ad_hoc_terms:\n",
        "  if term in ordered_wordcount and ordered_wordcount[term] > relevance_amount:\n",
        "    df[term] = df.apply(lambda row: get_word(row, 'desc_words', ',' + term + ',') , axis=1)"
      ]
    },
    {
      "cell_type": "code",
      "execution_count": 10,
      "metadata": {
        "id": "e7wnopBAs0r9"
      },
      "outputs": [],
      "source": [
        "# Ad hoc inclusion of set of words (or expressions) present at Job Description column\n",
        "\n",
        "key_terms = [' r ', ' c ', 'd3', 'azure m', 'google analytics', 'power bi', 'machine learning', 'deep learning', 'cloud comp', 'database', 'science degree', \n",
        "             'software engineer', 'software developer', 'system analyst', 'financial service', \"bachelor's degree\", 'data architect', 'data scientist', 'data analyst',\n",
        "             'data engineer', 'cyber security', 'data visualization', 'data pipeline', 'microsoft office', 'health', 'computer science', 'project manage', 'data warehouse'\n",
        "             'data cleaning', 'data mining', 'continuous integration', 'reinforcement learning', 'unsupervised learning', 'data acquisition', 'web scraping', 'api integration', \n",
        "             'python', 'xml', 'aws', 'excel', 'h2o.ai', 'json']\n",
        "counts = {}\n",
        "\n",
        "for term in key_terms:\n",
        "  df[term] = df.apply(lambda row: get_word(row, 'Job Description', term) , axis=1)\n",
        "  counts[term] = int(df[term].sum())\n",
        "  if counts[term] < relevance_amount:\n",
        "    df = df.drop(columns=[term])\n",
        "\n",
        "#print(counts)"
      ]
    },
    {
      "cell_type": "code",
      "execution_count": 11,
      "metadata": {
        "colab": {
          "base_uri": "https://localhost:8080/",
          "height": 265
        },
        "id": "xEhsRDlbAZTp",
        "outputId": "046882bc-3726-4e63-bfbc-a9a53afde215"
      },
      "outputs": [
        {
          "output_type": "display_data",
          "data": {
            "text/plain": [
              "<Figure size 432x288 with 1 Axes>"
            ],
            "image/png": "[encoded data removed]"
          },
          "metadata": {
            "needs_background": "light"
          }
        }
      ],
      "source": [
        "# FEATURE SELECTION - Detecting irrelevant features for salary inference\n",
        "\n",
        "X_fs = df.drop(columns=['Job Title', 'Salary Estimate', 'Job Description', 'Location', 'Rating', 'Headquarters', 'Size', 'scope_DataAnalyst', 'scope_DataEngineer', \n",
        "                        'scope_DataScientist', 'desc_words', 'salary', 'location_cat'], errors='ignore')\n",
        "y_fs = df['salary']\n",
        "X_fs = X_fs.astype(float)\n",
        "\n",
        "X_train, X_test, y_train, y_test = train_test_split(X_fs, y_fs, test_size=test_set_size)\n",
        "fs = SelectKBest(score_func=mutual_info_regression, k='all')\n",
        "fs.fit(X_train, y_train)\n",
        "X_train_fs = fs.transform(X_train)\n",
        "X_test_fs = fs.transform(X_test)\n",
        "\n",
        "feature_scores = {}\n",
        "\n",
        "for i in range(len(fs.scores_)):\n",
        "  #print('Feature ' + fs.feature_names_in_[i] + ': ' + str(fs.scores_[i]))\n",
        "  feature_scores[fs.feature_names_in_[i]] = fs.scores_[i]\n",
        "\n",
        "# plot the scores\n",
        "plt.bar([i for i in range(len(fs.scores_))], fs.scores_)\n",
        "plt.show()"
      ]
    },
    {
      "cell_type": "code",
      "execution_count": 12,
      "metadata": {
        "id": "9VjZ_hjKM3XO",
        "colab": {
          "base_uri": "https://localhost:8080/",
          "height": 265
        },
        "outputId": "7f15c308-96c1-4f33-df7b-0f22e4dd38e4"
      },
      "outputs": [
        {
          "output_type": "display_data",
          "data": {
            "text/plain": [
              "<Figure size 432x288 with 1 Axes>"
            ],
            "image/png": "[encoded data removed]"
          },
          "metadata": {
            "needs_background": "light"
          }
        }
      ],
      "source": [
        "# FEATURE SELECTION - Detecting irrelevant features for rating inference\n",
        "\n",
        "# Cleaning dataset to predict ratings\n",
        "\n",
        "df_rating = df[df['Rating'] != -1]\n",
        "X_fs = df_rating.drop(columns=['Job Title', 'Salary Estimate', 'Job Description', 'Location', 'Rating', 'Headquarters', 'Size', 'scope_DataAnalyst', 'scope_DataEngineer', \n",
        "                        'scope_DataScientist', 'desc_words', 'salary', 'location_cat'], errors='ignore')\n",
        "\n",
        "y_fs = df_rating['Rating']\n",
        "\n",
        "X_train, X_test, y_train, y_test = train_test_split(X_fs, y_fs, test_size=test_set_size)\n",
        "fs = SelectKBest(score_func=mutual_info_regression, k='all')\n",
        "fs.fit(X_train, y_train)\n",
        "X_train_fs = fs.transform(X_train)\n",
        "X_test_fs = fs.transform(X_test)\n",
        "\n",
        "feature_scores_ratings = {}\n",
        "\n",
        "for i in range(len(fs.scores_)):\n",
        "  #print('Feature ' + fs.feature_names_in_[i] + ': ' + str(fs.scores_[i]))\n",
        "  feature_scores_ratings[fs.feature_names_in_[i]] = fs.scores_[i]\n",
        "\n",
        "# plot the scores\n",
        "plt.bar([i for i in range(len(fs.scores_))], fs.scores_)\n",
        "plt.show()"
      ]
    },
    {
      "cell_type": "code",
      "execution_count": 13,
      "metadata": {
        "id": "WRuZKSWmNzHz"
      },
      "outputs": [],
      "source": [
        "# Establishing salary and ratings datasets, with the corresponding relevant features for each one\n",
        "\n",
        "df_salary = df\n",
        "df_rating = df\n",
        "\n",
        "# Cleaning dataset to predict ratings\n",
        "df_rating = df[df['Rating'] != -1]\n",
        "\n",
        "# Deleting irrelevant features - salary inference\n",
        "feature_scores = dict(sorted(feature_scores.items(), key=lambda item: item[1], reverse=True))\n",
        "relevant_feature_scores = {k: feature_scores[k] for k in list(feature_scores)[:relevant_features_salary]}\n",
        "\n",
        "for feature in feature_scores.items():\n",
        "  if feature[0] not in relevant_feature_scores:\n",
        "    df_salary = df_salary.drop(columns=[feature[0]])\n",
        "\n",
        "\n",
        "# Deleting irrelevant features - rating inference\n",
        "feature_scores_ratings = dict(sorted(feature_scores_ratings.items(), key=lambda item: item[1], reverse=True))\n",
        "relevant_feature_scores_ratings = {k: feature_scores_ratings[k] for k in list(feature_scores_ratings)[:relevant_features_rating]}\n",
        "\n",
        "for feature in feature_scores_ratings.items():\n",
        "  if feature[0] not in relevant_feature_scores_ratings:\n",
        "    df_rating = df_rating.drop(columns=[feature[0]])\n",
        "\n",
        "#print(df_salary)\n",
        "#print(df_rating)\n",
        "#print(df_salary.columns.tolist())\n",
        "#print(df_rating.columns.tolist())"
      ]
    },
    {
      "cell_type": "code",
      "execution_count": 14,
      "metadata": {
        "id": "yk4d19EnAa-B"
      },
      "outputs": [],
      "source": [
        "# Using one hot encoding to encode categorical feature 'Location'\n",
        "\n",
        "encoder = OneHotEncoder()\n",
        "df_encoded = encoder.fit_transform(df_salary[['location_cat']])\n",
        "encoded_column_names = list(encoder.get_feature_names_out(['location_cat']))\n",
        "df_encoded = pd.DataFrame(df_encoded.toarray(), columns=encoded_column_names)\n",
        "\n",
        "df_salary = df_salary.reset_index(drop=True)\n",
        "df_encoded = df_encoded.reset_index(drop=True)\n",
        "\n",
        "df_salary = pd.concat([df_salary, df_encoded], axis=1).drop(columns=['location_cat'])\n",
        "\n",
        "encoder = OneHotEncoder()\n",
        "df_encoded = encoder.fit_transform(df_rating[['location_cat']])\n",
        "encoded_column_names = list(encoder.get_feature_names_out(['location_cat']))\n",
        "df_encoded = pd.DataFrame(df_encoded.toarray(), columns=encoded_column_names)\n",
        "\n",
        "df_rating = df_rating.reset_index(drop=True)\n",
        "df_encoded = df_encoded.reset_index(drop=True)\n",
        "\n",
        "df_rating = pd.concat([df_rating, df_encoded], axis=1).drop(columns=['location_cat'])\n",
        "\n",
        "#print(df_salary)\n",
        "#print(df_rating)"
      ]
    },
    {
      "cell_type": "code",
      "execution_count": 15,
      "metadata": {
        "id": "NPFqMVxSK-vV"
      },
      "outputs": [],
      "source": [
        "# Saving datasets\n",
        "\n",
        "df.to_csv('output/dataset.csv')\n",
        "df_salary.to_csv('output/dataset_salary.csv')\n",
        "df_rating.to_csv('output/dataset_rating.csv')\n",
        "\n",
        "files = ['output/dataset.csv', 'output/dataset_salary.csv', 'output/dataset_rating.csv']\n",
        "for csv_file in files:\n",
        "  with open(csv_file, 'rb') as f_in, gzip.open(csv_file + '.gz', 'wb') as f_out:\n",
        "    f_out.writelines(f_in)"
      ]
    },
    {
      "cell_type": "code",
      "execution_count": 16,
      "metadata": {
        "colab": {
          "base_uri": "https://localhost:8080/"
        },
        "id": "VjXTRhzC65I3",
        "outputId": "7025a479-9bac-4613-dec1-c0b042d7f63c"
      },
      "outputs": [
        {
          "output_type": "stream",
          "name": "stdout",
          "text": [
            "'tuple' object has no attribute '__name__'\n",
            "Invalid Regressor(s)\n"
          ]
        },
        {
          "output_type": "stream",
          "name": "stderr",
          "text": [
            "  2%|▏         | 1/53 [00:00<00:21,  2.42it/s]"
          ]
        },
        {
          "output_type": "stream",
          "name": "stdout",
          "text": [
            "{'Model': 'ARDRegression', 'R-Squared': 0.39472875682976727, 'Adjusted R-Squared': 0.364648610199489, 'RMSE': 28.81579786648288, 'Time taken': 0.4115581512451172}\n"
          ]
        },
        {
          "output_type": "stream",
          "name": "stderr",
          "text": [
            "\r  4%|▍         | 2/53 [00:00<00:16,  3.17it/s]"
          ]
        },
        {
          "output_type": "stream",
          "name": "stdout",
          "text": [
            "{'Model': 'AdaBoostRegressor', 'R-Squared': 0.23483422701104006, 'Adjusted R-Squared': 0.1968078067776493, 'RMSE': 32.39913356523694, 'Time taken': 0.2434825897216797}\n"
          ]
        },
        {
          "output_type": "stream",
          "name": "stderr",
          "text": [
            "  8%|▊         | 4/53 [00:01<00:14,  3.45it/s]"
          ]
        },
        {
          "output_type": "stream",
          "name": "stdout",
          "text": [
            "{'Model': 'BaggingRegressor', 'R-Squared': 0.3172943182726454, 'Adjusted R-Squared': 0.283365914695892, 'RMSE': 30.60359086202285, 'Time taken': 0.4774653911590576}\n",
            "{'Model': 'BayesianRidge', 'R-Squared': 0.3961281055472041, 'Adjusted R-Squared': 0.36611750230773177, 'RMSE': 28.78246844312219, 'Time taken': 0.13261151313781738}\n"
          ]
        },
        {
          "output_type": "stream",
          "name": "stderr",
          "text": [
            " 11%|█▏        | 6/53 [00:01<00:10,  4.57it/s]"
          ]
        },
        {
          "output_type": "stream",
          "name": "stdout",
          "text": [
            "{'Model': 'CCA', 'R-Squared': 0.19756791212971425, 'Adjusted R-Squared': 0.1576894689749485, 'RMSE': 33.17873106142141, 'Time taken': 0.17033958435058594}\n",
            "{'Model': 'DecisionTreeRegressor', 'R-Squared': 0.036500691140812225, 'Adjusted R-Squared': -0.01138230481461422, 'RMSE': 36.35643845969957, 'Time taken': 0.1530759334564209}\n",
            "{'Model': 'DummyRegressor', 'R-Squared': -0.0015923743027170811, 'Adjusted R-Squared': -0.05136848017715523, 'RMSE': 37.068168910690645, 'Time taken': 0.03206992149353027}\n",
            "{'Model': 'ElasticNet', 'R-Squared': 0.3443265842619532, 'Adjusted R-Squared': 0.3117416023889108, 'RMSE': 29.991584890124308, 'Time taken': 0.0556790828704834}\n"
          ]
        },
        {
          "output_type": "stream",
          "name": "stderr",
          "text": [
            " 19%|█▉        | 10/53 [00:02<00:08,  5.15it/s]"
          ]
        },
        {
          "output_type": "stream",
          "name": "stdout",
          "text": [
            "{'Model': 'ElasticNetCV', 'R-Squared': 0.3962259102374086, 'Adjusted R-Squared': 0.3662201675946616, 'RMSE': 28.78013750635551, 'Time taken': 0.480501651763916}\n",
            "{'Model': 'ExtraTreeRegressor', 'R-Squared': 0.05514553257460253, 'Adjusted R-Squared': 0.008189128738915974, 'RMSE': 36.00295014416242, 'Time taken': 0.16136860847473145}\n"
          ]
        },
        {
          "output_type": "stream",
          "name": "stderr",
          "text": [
            "\r 21%|██        | 11/53 [00:08<01:05,  1.57s/it]"
          ]
        },
        {
          "output_type": "stream",
          "name": "stdout",
          "text": [
            "{'Model': 'ExtraTreesRegressor', 'R-Squared': 0.07222853553524433, 'Adjusted R-Squared': 0.026121105180026083, 'RMSE': 35.67599825712707, 'Time taken': 5.928481817245483}\n",
            "{'Model': 'GammaRegressor', 'R-Squared': 0.32045575876897003, 'Adjusted R-Squared': 0.2866844692047612, 'RMSE': 30.532649823934083, 'Time taken': 0.06334257125854492}\n"
          ]
        },
        {
          "output_type": "stream",
          "name": "stderr",
          "text": [
            "\r 25%|██▍       | 13/53 [00:31<03:43,  5.59s/it]"
          ]
        },
        {
          "output_type": "stream",
          "name": "stdout",
          "text": [
            "{'Model': 'GaussianProcessRegressor', 'R-Squared': -4.188246841054296, 'Adjusted R-Squared': -4.446086987094571, 'RMSE': 84.36570573393205, 'Time taken': 22.86102294921875}\n"
          ]
        },
        {
          "output_type": "stream",
          "name": "stderr",
          "text": [
            "\r 26%|██▋       | 14/53 [00:32<02:57,  4.55s/it]"
          ]
        },
        {
          "output_type": "stream",
          "name": "stdout",
          "text": [
            "{'Model': 'GradientBoostingRegressor', 'R-Squared': 0.42723169406090866, 'Adjusted R-Squared': 0.3987668449172689, 'RMSE': 28.031421243043635, 'Time taken': 0.963822603225708}\n"
          ]
        },
        {
          "output_type": "stream",
          "name": "stderr",
          "text": [
            " 30%|███       | 16/53 [00:33<01:42,  2.77s/it]"
          ]
        },
        {
          "output_type": "stream",
          "name": "stdout",
          "text": [
            "{'Model': 'HistGradientBoostingRegressor', 'R-Squared': 0.44423983565491965, 'Adjusted R-Squared': 0.4166202396086792, 'RMSE': 27.612093530282397, 'Time taken': 1.0051124095916748}\n",
            "{'Model': 'HuberRegressor', 'R-Squared': 0.3877667833525825, 'Adjusted R-Squared': 0.3573406477373775, 'RMSE': 28.98104711378588, 'Time taken': 0.10900402069091797}\n",
            "IsotonicRegression model failed to execute\n",
            "Isotonic regression input X should be a 1d array or 2d array with 1 feature\n"
          ]
        },
        {
          "output_type": "stream",
          "name": "stderr",
          "text": [
            "\r 34%|███▍      | 18/53 [00:33<00:58,  1.68s/it]"
          ]
        },
        {
          "output_type": "stream",
          "name": "stdout",
          "text": [
            "{'Model': 'KNeighborsRegressor', 'R-Squared': 0.31208257581074006, 'Adjusted R-Squared': 0.27789516442678885, 'RMSE': 30.72018194550851, 'Time taken': 0.3707313537597656}\n"
          ]
        },
        {
          "output_type": "stream",
          "name": "stderr",
          "text": [
            "\r 36%|███▌      | 19/53 [00:40<01:38,  2.90s/it]"
          ]
        },
        {
          "output_type": "stream",
          "name": "stdout",
          "text": [
            "{'Model': 'KernelRidge', 'R-Squared': -6.580217384058597, 'Adjusted R-Squared': -6.956931217690601, 'RMSE': 101.97564451661472, 'Time taken': 6.913214683532715}\n",
            "{'Model': 'Lars', 'R-Squared': 0.39572655432917125, 'Adjusted R-Squared': 0.3656959952109845, 'RMSE': 28.792036461324432, 'Time taken': 0.08709073066711426}\n"
          ]
        },
        {
          "output_type": "stream",
          "name": "stderr",
          "text": [
            "\r 40%|███▉      | 21/53 [00:41<00:58,  1.83s/it]"
          ]
        },
        {
          "output_type": "stream",
          "name": "stdout",
          "text": [
            "{'Model': 'LarsCV', 'R-Squared': 0.3950629930686177, 'Adjusted R-Squared': 0.3649994569665732, 'RMSE': 28.807840596089846, 'Time taken': 0.3424248695373535}\n",
            "{'Model': 'Lasso', 'R-Squared': 0.37324646777029247, 'Adjusted R-Squared': 0.34209871647160395, 'RMSE': 29.322704498292584, 'Time taken': 0.06567025184631348}\n"
          ]
        },
        {
          "output_type": "stream",
          "name": "stderr",
          "text": [
            "\r 43%|████▎     | 23/53 [00:41<00:37,  1.24s/it]"
          ]
        },
        {
          "output_type": "stream",
          "name": "stdout",
          "text": [
            "{'Model': 'LassoCV', 'R-Squared': 0.3952933544406402, 'Adjusted R-Squared': 0.3652412666007204, 'RMSE': 28.802355028584255, 'Time taken': 0.3576805591583252}\n",
            "{'Model': 'LassoLars', 'R-Squared': -0.0015923743027170811, 'Adjusted R-Squared': -0.05136848017715523, 'RMSE': 37.068168910690645, 'Time taken': 0.05121350288391113}\n"
          ]
        },
        {
          "output_type": "stream",
          "name": "stderr",
          "text": [
            " 49%|████▉     | 26/53 [00:41<00:19,  1.36it/s]"
          ]
        },
        {
          "output_type": "stream",
          "name": "stdout",
          "text": [
            "{'Model': 'LassoLarsCV', 'R-Squared': 0.3950629930686177, 'Adjusted R-Squared': 0.3649994569665732, 'RMSE': 28.807840596089846, 'Time taken': 0.2709810733795166}\n",
            "{'Model': 'LassoLarsIC', 'R-Squared': 0.3955724510035725, 'Adjusted R-Squared': 0.36553423341708335, 'RMSE': 28.79570753586599, 'Time taken': 0.15835809707641602}\n"
          ]
        },
        {
          "output_type": "stream",
          "name": "stderr",
          "text": [
            "\r 51%|█████     | 27/53 [00:42<00:15,  1.66it/s]"
          ]
        },
        {
          "output_type": "stream",
          "name": "stdout",
          "text": [
            "{'Model': 'LinearRegression', 'R-Squared': 0.3956989425320473, 'Adjusted R-Squared': 0.3656670111912157, 'RMSE': 28.792694268475927, 'Time taken': 0.12350320816040039}\n"
          ]
        },
        {
          "output_type": "stream",
          "name": "stderr",
          "text": [
            "\r 53%|█████▎    | 28/53 [00:42<00:13,  1.90it/s]"
          ]
        },
        {
          "output_type": "stream",
          "name": "stdout",
          "text": [
            "{'Model': 'LinearSVR', 'R-Squared': 0.3764249014066512, 'Adjusted R-Squared': 0.3454351086280726, 'RMSE': 29.24825838280651, 'Time taken': 0.28208422660827637}\n"
          ]
        },
        {
          "output_type": "stream",
          "name": "stderr",
          "text": [
            " 64%|██████▍   | 34/53 [00:56<00:26,  1.39s/it]"
          ]
        },
        {
          "output_type": "stream",
          "name": "stdout",
          "text": [
            "{'Model': 'MLPRegressor', 'R-Squared': 0.42984472703515586, 'Adjusted R-Squared': 0.40150973771205445, 'RMSE': 27.967406912424927, 'Time taken': 13.661570310592651}\n",
            "MultiOutputRegressor model failed to execute\n",
            "__init__() missing 1 required positional argument: 'estimator'\n",
            "MultiTaskElasticNet model failed to execute\n",
            "For mono-task outputs, use ElasticNet\n",
            "MultiTaskElasticNetCV model failed to execute\n",
            "For mono-task outputs, use ElasticNetCVCV\n",
            "MultiTaskLasso model failed to execute\n",
            "For mono-task outputs, use ElasticNet\n",
            "MultiTaskLassoCV model failed to execute\n",
            "For mono-task outputs, use LassoCVCV\n"
          ]
        },
        {
          "output_type": "stream",
          "name": "stderr",
          "text": [
            "\r 68%|██████▊   | 36/53 [00:59<00:25,  1.49s/it]"
          ]
        },
        {
          "output_type": "stream",
          "name": "stdout",
          "text": [
            "{'Model': 'NuSVR', 'R-Squared': 0.2950645814360786, 'Adjusted R-Squared': 0.26003142730138673, 'RMSE': 31.097844993283193, 'Time taken': 3.4660139083862305}\n",
            "{'Model': 'OrthogonalMatchingPursuit', 'R-Squared': 0.3275686545266483, 'Adjusted R-Squared': 0.29415085432736654, 'RMSE': 30.37243446291158, 'Time taken': 0.03991508483886719}\n",
            "{'Model': 'OrthogonalMatchingPursuitCV', 'R-Squared': 0.3275686545266483, 'Adjusted R-Squared': 0.29415085432736654, 'RMSE': 30.37243446291158, 'Time taken': 0.14751243591308594}\n"
          ]
        },
        {
          "output_type": "stream",
          "name": "stderr",
          "text": [
            " 75%|███████▌  | 40/53 [01:00<00:10,  1.24it/s]"
          ]
        },
        {
          "output_type": "stream",
          "name": "stdout",
          "text": [
            "{'Model': 'PLSCanonical', 'R-Squared': -1.4254277975272966, 'Adjusted R-Squared': -1.5459642092831989, 'RMSE': 57.68326095588533, 'Time taken': 0.05413031578063965}\n",
            "{'Model': 'PLSRegression', 'R-Squared': 0.34983874981080676, 'Adjusted R-Squared': 0.3175277058620104, 'RMSE': 29.86525103361985, 'Time taken': 0.0673513412475586}\n",
            "{'Model': 'PassiveAggressiveRegressor', 'R-Squared': -0.5725904295862618, 'Adjusted R-Squared': -0.650743408511155, 'RMSE': 46.447617582021955, 'Time taken': 0.06978178024291992}\n",
            "{'Model': 'PoissonRegressor', 'R-Squared': 0.4053971195912013, 'Adjusted R-Squared': 0.37584715826179427, 'RMSE': 28.56071877963058, 'Time taken': 0.10031318664550781}\n"
          ]
        },
        {
          "output_type": "stream",
          "name": "stderr",
          "text": [
            "\r 79%|███████▉  | 42/53 [01:00<00:07,  1.44it/s]"
          ]
        },
        {
          "output_type": "stream",
          "name": "stdout",
          "text": [
            "{'Model': 'RANSACRegressor', 'R-Squared': -2.587426223640163e+23, 'Adjusted R-Squared': -2.716013466269553e+23, 'RMSE': 18840378192860.67, 'Time taken': 0.7155933380126953}\n"
          ]
        },
        {
          "output_type": "stream",
          "name": "stderr",
          "text": [
            "\r 81%|████████  | 43/53 [01:01<00:06,  1.60it/s]"
          ]
        },
        {
          "output_type": "stream",
          "name": "stdout",
          "text": [
            "RadiusNeighborsRegressor model failed to execute\n",
            "Input contains NaN, infinity or a value too large for dtype('float64').\n"
          ]
        },
        {
          "output_type": "stream",
          "name": "stderr",
          "text": [
            " 89%|████████▊ | 47/53 [01:05<00:04,  1.36it/s]"
          ]
        },
        {
          "output_type": "stream",
          "name": "stdout",
          "text": [
            "{'Model': 'RandomForestRegressor', 'R-Squared': 0.36800992864841653, 'Adjusted R-Squared': 0.33660193722367115, 'RMSE': 29.44494560820013, 'Time taken': 4.129686117172241}\n",
            "RegressorChain model failed to execute\n",
            "__init__() missing 1 required positional argument: 'base_estimator'\n",
            "{'Model': 'Ridge', 'R-Squared': 0.39571390537472373, 'Adjusted R-Squared': 0.36568271764183113, 'RMSE': 28.792337804412096, 'Time taken': 0.03888082504272461}\n",
            "{'Model': 'RidgeCV', 'R-Squared': 0.3957534576084504, 'Adjusted R-Squared': 0.36572423550171873, 'RMSE': 28.791395519028107, 'Time taken': 0.11216044425964355}\n"
          ]
        },
        {
          "output_type": "stream",
          "name": "stderr",
          "text": [
            "\r 91%|█████████ | 48/53 [01:05<00:03,  1.60it/s]"
          ]
        },
        {
          "output_type": "stream",
          "name": "stdout",
          "text": [
            "{'Model': 'SGDRegressor', 'R-Squared': -2383943.5845969417, 'Adjusted R-Squared': -2502418.4063769113, 'RMSE': 57187.84173387262, 'Time taken': 0.10393548011779785}\n"
          ]
        },
        {
          "output_type": "stream",
          "name": "stderr",
          "text": [
            "100%|██████████| 53/53 [01:10<00:00,  1.33s/it]"
          ]
        },
        {
          "output_type": "stream",
          "name": "stdout",
          "text": [
            "{'Model': 'SVR', 'R-Squared': 0.3028913235153087, 'Adjusted R-Squared': 0.2682471347445542, 'RMSE': 30.924726880658767, 'Time taken': 4.8881964683532715}\n",
            "StackingRegressor model failed to execute\n",
            "__init__() missing 1 required positional argument: 'estimators'\n",
            "{'Model': 'TransformedTargetRegressor', 'R-Squared': 0.3956989425320473, 'Adjusted R-Squared': 0.3656670111912157, 'RMSE': 28.792694268475927, 'Time taken': 0.06462669372558594}\n",
            "{'Model': 'TweedieRegressor', 'R-Squared': 0.32193224510470575, 'Adjusted R-Squared': 0.288234332437182, 'RMSE': 30.4994617312921, 'Time taken': 0.04825711250305176}\n",
            "VotingRegressor model failed to execute\n",
            "__init__() missing 1 required positional argument: 'estimators'\n"
          ]
        },
        {
          "output_type": "stream",
          "name": "stderr",
          "text": [
            "\n"
          ]
        }
      ],
      "source": [
        "# PREDICTING SALARIES\n",
        "# Using lazypredict to benchmark several regression algorithms using R2-score as metric. The best one will be selected for training and inference\n",
        "\n",
        "# Excluding those which takes a huge amount of time (and give low R2-score)\n",
        "\n",
        "excluded_regressors = [\n",
        "    'QuantileRegressor', 'TheilSenRegressor'\n",
        "]\n",
        "\n",
        "REGRESSORS = [\n",
        "    est\n",
        "    for est in all_estimators()\n",
        "    if (issubclass(est[1], RegressorMixin) and (est[0] not in excluded_regressors))\n",
        "]\n",
        "\n",
        "# Prepare dataset\n",
        "X_lazy = df_salary.drop(columns=['Job Title', 'Salary Estimate', 'Job Description', 'Location', 'Rating', 'Headquarters', 'Size', 'desc_words', 'salary'])\n",
        "y_lazy = df_salary['salary']\n",
        "X_lazy = X_lazy.astype(float)\n",
        "\n",
        "X_train, X_test, y_train, y_test = train_test_split(X_lazy, y_lazy, test_size=test_set_size)\n",
        "\n",
        "reg = LazyRegressor(verbose=1,ignore_warnings=False, custom_metric=None, regressors=REGRESSORS)\n",
        "models, predictions = reg.fit(X_train, X_test, y_train, y_test)"
      ]
    },
    {
      "cell_type": "code",
      "execution_count": 17,
      "metadata": {
        "colab": {
          "base_uri": "https://localhost:8080/"
        },
        "id": "XM_wAKWhBned",
        "outputId": "e37c50c2-2f55-4adc-ffea-10c042363cbd"
      },
      "outputs": [
        {
          "output_type": "stream",
          "name": "stdout",
          "text": [
            "                                        Adjusted R-Squared  \\\n",
            "Model                                                        \n",
            "HistGradientBoostingRegressor                         0.42   \n",
            "MLPRegressor                                          0.40   \n",
            "GradientBoostingRegressor                             0.40   \n",
            "PoissonRegressor                                      0.38   \n",
            "ElasticNetCV                                          0.37   \n",
            "BayesianRidge                                         0.37   \n",
            "RidgeCV                                               0.37   \n",
            "Lars                                                  0.37   \n",
            "Ridge                                                 0.37   \n",
            "TransformedTargetRegressor                            0.37   \n",
            "LinearRegression                                      0.37   \n",
            "LassoLarsIC                                           0.37   \n",
            "LassoCV                                               0.37   \n",
            "LassoLarsCV                                           0.36   \n",
            "LarsCV                                                0.36   \n",
            "ARDRegression                                         0.36   \n",
            "HuberRegressor                                        0.36   \n",
            "LinearSVR                                             0.35   \n",
            "Lasso                                                 0.34   \n",
            "RandomForestRegressor                                 0.34   \n",
            "PLSRegression                                         0.32   \n",
            "ElasticNet                                            0.31   \n",
            "OrthogonalMatchingPursuit                             0.29   \n",
            "OrthogonalMatchingPursuitCV                           0.29   \n",
            "TweedieRegressor                                      0.29   \n",
            "GammaRegressor                                        0.29   \n",
            "BaggingRegressor                                      0.28   \n",
            "KNeighborsRegressor                                   0.28   \n",
            "SVR                                                   0.27   \n",
            "NuSVR                                                 0.26   \n",
            "AdaBoostRegressor                                     0.20   \n",
            "CCA                                                   0.16   \n",
            "ExtraTreesRegressor                                   0.03   \n",
            "ExtraTreeRegressor                                    0.01   \n",
            "DecisionTreeRegressor                                -0.01   \n",
            "LassoLars                                            -0.05   \n",
            "DummyRegressor                                       -0.05   \n",
            "PassiveAggressiveRegressor                           -0.65   \n",
            "PLSCanonical                                         -1.55   \n",
            "GaussianProcessRegressor                             -4.45   \n",
            "KernelRidge                                          -6.96   \n",
            "SGDRegressor                                   -2502418.41   \n",
            "RANSACRegressor               -271601346626955310530560.00   \n",
            "\n",
            "                                                 R-Squared              RMSE  \\\n",
            "Model                                                                          \n",
            "HistGradientBoostingRegressor                         0.44             27.61   \n",
            "MLPRegressor                                          0.43             27.97   \n",
            "GradientBoostingRegressor                             0.43             28.03   \n",
            "PoissonRegressor                                      0.41             28.56   \n",
            "ElasticNetCV                                          0.40             28.78   \n",
            "BayesianRidge                                         0.40             28.78   \n",
            "RidgeCV                                               0.40             28.79   \n",
            "Lars                                                  0.40             28.79   \n",
            "Ridge                                                 0.40             28.79   \n",
            "TransformedTargetRegressor                            0.40             28.79   \n",
            "LinearRegression                                      0.40             28.79   \n",
            "LassoLarsIC                                           0.40             28.80   \n",
            "LassoCV                                               0.40             28.80   \n",
            "LassoLarsCV                                           0.40             28.81   \n",
            "LarsCV                                                0.40             28.81   \n",
            "ARDRegression                                         0.39             28.82   \n",
            "HuberRegressor                                        0.39             28.98   \n",
            "LinearSVR                                             0.38             29.25   \n",
            "Lasso                                                 0.37             29.32   \n",
            "RandomForestRegressor                                 0.37             29.44   \n",
            "PLSRegression                                         0.35             29.87   \n",
            "ElasticNet                                            0.34             29.99   \n",
            "OrthogonalMatchingPursuit                             0.33             30.37   \n",
            "OrthogonalMatchingPursuitCV                           0.33             30.37   \n",
            "TweedieRegressor                                      0.32             30.50   \n",
            "GammaRegressor                                        0.32             30.53   \n",
            "BaggingRegressor                                      0.32             30.60   \n",
            "KNeighborsRegressor                                   0.31             30.72   \n",
            "SVR                                                   0.30             30.92   \n",
            "NuSVR                                                 0.30             31.10   \n",
            "AdaBoostRegressor                                     0.23             32.40   \n",
            "CCA                                                   0.20             33.18   \n",
            "ExtraTreesRegressor                                   0.07             35.68   \n",
            "ExtraTreeRegressor                                    0.06             36.00   \n",
            "DecisionTreeRegressor                                 0.04             36.36   \n",
            "LassoLars                                            -0.00             37.07   \n",
            "DummyRegressor                                       -0.00             37.07   \n",
            "PassiveAggressiveRegressor                           -0.57             46.45   \n",
            "PLSCanonical                                         -1.43             57.68   \n",
            "GaussianProcessRegressor                             -4.19             84.37   \n",
            "KernelRidge                                          -6.58            101.98   \n",
            "SGDRegressor                                   -2383943.58          57187.84   \n",
            "RANSACRegressor               -258742622364016306028544.00 18840378192860.67   \n",
            "\n",
            "                               Time Taken  \n",
            "Model                                      \n",
            "HistGradientBoostingRegressor        1.01  \n",
            "MLPRegressor                        13.66  \n",
            "GradientBoostingRegressor            0.96  \n",
            "PoissonRegressor                     0.10  \n",
            "ElasticNetCV                         0.48  \n",
            "BayesianRidge                        0.13  \n",
            "RidgeCV                              0.11  \n",
            "Lars                                 0.09  \n",
            "Ridge                                0.04  \n",
            "TransformedTargetRegressor           0.06  \n",
            "LinearRegression                     0.12  \n",
            "LassoLarsIC                          0.16  \n",
            "LassoCV                              0.36  \n",
            "LassoLarsCV                          0.27  \n",
            "LarsCV                               0.34  \n",
            "ARDRegression                        0.41  \n",
            "HuberRegressor                       0.11  \n",
            "LinearSVR                            0.28  \n",
            "Lasso                                0.07  \n",
            "RandomForestRegressor                4.13  \n",
            "PLSRegression                        0.07  \n",
            "ElasticNet                           0.06  \n",
            "OrthogonalMatchingPursuit            0.04  \n",
            "OrthogonalMatchingPursuitCV          0.15  \n",
            "TweedieRegressor                     0.05  \n",
            "GammaRegressor                       0.06  \n",
            "BaggingRegressor                     0.48  \n",
            "KNeighborsRegressor                  0.37  \n",
            "SVR                                  4.89  \n",
            "NuSVR                                3.47  \n",
            "AdaBoostRegressor                    0.24  \n",
            "CCA                                  0.17  \n",
            "ExtraTreesRegressor                  5.93  \n",
            "ExtraTreeRegressor                   0.16  \n",
            "DecisionTreeRegressor                0.15  \n",
            "LassoLars                            0.05  \n",
            "DummyRegressor                       0.03  \n",
            "PassiveAggressiveRegressor           0.07  \n",
            "PLSCanonical                         0.05  \n",
            "GaussianProcessRegressor            22.86  \n",
            "KernelRidge                          6.91  \n",
            "SGDRegressor                         0.10  \n",
            "RANSACRegressor                      0.72  \n"
          ]
        }
      ],
      "source": [
        "# Printing final result of lazypredict\n",
        "\n",
        "print(models)"
      ]
    },
    {
      "cell_type": "code",
      "execution_count": 18,
      "metadata": {
        "colab": {
          "base_uri": "https://localhost:8080/"
        },
        "id": "wfDUmV3vE_C5",
        "outputId": "262c8a84-b1b7-42dc-d22f-d9706e4d372c"
      },
      "outputs": [
        {
          "output_type": "stream",
          "name": "stdout",
          "text": [
            "R2-score:  0.44423983565491965\n",
            "Mean error in prediction:  21.242346386549908\n",
            "Prediction error variance:  27.595268074164174\n",
            "Max, min, domain:  225.0 ,  33.5 ,  191.5\n",
            "Mean error in prediction (%):  0.11092609079138332\n",
            "Prediction error variance (%):  0.14410061657526985\n"
          ]
        }
      ],
      "source": [
        "# The regression algorithm HistGradientBoostingRegressor is the one to be used\n",
        "\n",
        "model = HistGradientBoostingRegressor().fit(X_train, y_train)\n",
        "test_prediction = model.predict(X_test)\n",
        "\n",
        "# Evaluate result\n",
        "\n",
        "R2 = model.score(X_test, y_test)\n",
        "\n",
        "average = np.mean(abs(y_test - test_prediction))\n",
        "sigma = np.std((y_test - test_prediction))\n",
        "\n",
        "max = np.max(df['salary'].values.tolist())\n",
        "min = np.min(df['salary'].values.tolist())\n",
        "domain = max - min\n",
        "\n",
        "print('R2-score: ', R2)\n",
        "print('Mean error in prediction: ', average)\n",
        "print('Prediction error variance: ', sigma)\n",
        "print('Max, min, domain: ', max, \", \", min, \", \", domain)\n",
        "\n",
        "print('Mean error in prediction (%): ', average/domain)\n",
        "print('Prediction error variance (%): ', sigma/domain) "
      ]
    },
    {
      "cell_type": "code",
      "source": [
        "# Saving the model\n",
        "joblib.dump(model, \"models/model_salary.joblib\")\n",
        "\n",
        "with open(\"models/model_salary.joblib\", 'rb') as f_in, gzip.open(\"models/model_salary.joblib.gz\", 'wb') as f_out:\n",
        "    f_out.writelines(f_in)"
      ],
      "metadata": {
        "id": "t2obi25JtnzI"
      },
      "execution_count": 19,
      "outputs": []
    },
    {
      "cell_type": "code",
      "execution_count": 20,
      "metadata": {
        "colab": {
          "base_uri": "https://localhost:8080/"
        },
        "id": "XU-OcIwgmMvl",
        "outputId": "7d662316-c90c-49c3-a304-4f71b38e5de4"
      },
      "outputs": [
        {
          "output_type": "execute_result",
          "data": {
            "text/plain": [
              "array([92.33463039])"
            ]
          },
          "metadata": {},
          "execution_count": 20
        }
      ],
      "source": [
        "# One case inference code: getting salary of a random user\n",
        "\n",
        "# Inference params\n",
        "number_of_abilities = 15\n",
        "scope_example = 2.0\n",
        "\n",
        "columns = X_train.columns.values.tolist()\n",
        "total_abilities = len(columns) - 1\n",
        "\n",
        "abilities_indexes = [randint(0, (total_abilities - 1)) for p in range(0, number_of_abilities)]\n",
        "abilities = [0.0] * (total_abilities)\n",
        "\n",
        "for ab in abilities_indexes:\n",
        "  abilities[ab] = 1.0\n",
        "\n",
        "list_row = [scope_example] + abilities\n",
        "\n",
        "X_row = X_train[0:0]\n",
        "X_row.loc[len(X_row)] = list_row\n",
        "\n",
        "predictions = model.predict(X_row)\n",
        "predictions"
      ]
    },
    {
      "cell_type": "code",
      "execution_count": 21,
      "metadata": {
        "id": "1adpjlTthgRL",
        "colab": {
          "base_uri": "https://localhost:8080/"
        },
        "outputId": "cbf702e6-52dc-44d4-ecaa-09ca97a4d06f"
      },
      "outputs": [
        {
          "output_type": "stream",
          "name": "stdout",
          "text": [
            "'tuple' object has no attribute '__name__'\n",
            "Invalid Regressor(s)\n"
          ]
        },
        {
          "output_type": "stream",
          "name": "stderr",
          "text": [
            "\r  0%|          | 0/53 [00:00<?, ?it/s]"
          ]
        },
        {
          "output_type": "stream",
          "name": "stdout",
          "text": [
            "{'Model': 'ARDRegression', 'R-Squared': 0.05075920014822155, 'Adjusted R-Squared': -0.014006367863719227, 'RMSE': 0.6307387144139858, 'Time taken': 0.08400893211364746}\n"
          ]
        },
        {
          "output_type": "stream",
          "name": "stderr",
          "text": [
            "\r  4%|▍         | 2/53 [00:00<00:11,  4.26it/s]"
          ]
        },
        {
          "output_type": "stream",
          "name": "stdout",
          "text": [
            "{'Model': 'AdaBoostRegressor', 'R-Squared': -0.02910772578031917, 'Adjusted R-Squared': -0.09932251892453126, 'RMSE': 0.6567373399584928, 'Time taken': 0.3845670223236084}\n"
          ]
        },
        {
          "output_type": "stream",
          "name": "stderr",
          "text": [
            "  8%|▊         | 4/53 [00:01<00:14,  3.34it/s]"
          ]
        },
        {
          "output_type": "stream",
          "name": "stdout",
          "text": [
            "{'Model': 'BaggingRegressor', 'R-Squared': 0.17420704117608254, 'Adjusted R-Squared': 0.11786417217293443, 'RMSE': 0.5882973309486758, 'Time taken': 0.569760799407959}\n",
            "{'Model': 'BayesianRidge', 'R-Squared': 0.06094162729254615, 'Adjusted R-Squared': -0.003129205855653794, 'RMSE': 0.6273466524195687, 'Time taken': 0.1657719612121582}\n"
          ]
        },
        {
          "output_type": "stream",
          "name": "stderr",
          "text": [
            " 11%|█▏        | 6/53 [00:01<00:10,  4.47it/s]"
          ]
        },
        {
          "output_type": "stream",
          "name": "stdout",
          "text": [
            "{'Model': 'CCA', 'R-Squared': -0.5000247520692209, 'Adjusted R-Squared': -0.6023696524516144, 'RMSE': 0.7928855498447155, 'Time taken': 0.15179777145385742}\n",
            "{'Model': 'DecisionTreeRegressor', 'R-Squared': -0.11350474713340564, 'Adjusted R-Squared': -0.18947784841955806, 'RMSE': 0.683136242656283, 'Time taken': 0.16097712516784668}\n",
            "{'Model': 'DummyRegressor', 'R-Squared': -0.00011606519349660616, 'Adjusted R-Squared': -0.06835279190208121, 'RMSE': 0.6474205674074496, 'Time taken': 0.03389382362365723}\n",
            "{'Model': 'ElasticNet', 'R-Squared': -0.00011606519349660616, 'Adjusted R-Squared': -0.06835279190208121, 'RMSE': 0.6474205674074496, 'Time taken': 0.04171419143676758}\n"
          ]
        },
        {
          "output_type": "stream",
          "name": "stderr",
          "text": [
            " 19%|█▉        | 10/53 [00:02<00:07,  5.48it/s]"
          ]
        },
        {
          "output_type": "stream",
          "name": "stdout",
          "text": [
            "{'Model': 'ElasticNetCV', 'R-Squared': 0.054352869817211436, 'Adjusted R-Squared': -0.010167506397879, 'RMSE': 0.6295436456997442, 'Time taken': 0.3892490863800049}\n",
            "{'Model': 'ExtraTreeRegressor', 'R-Squared': -0.09815886877342161, 'Adjusted R-Squared': -0.17308493907567435, 'RMSE': 0.6784125555687663, 'Time taken': 0.1743922233581543}\n"
          ]
        },
        {
          "output_type": "stream",
          "name": "stderr",
          "text": [
            "\r 21%|██        | 11/53 [00:09<01:16,  1.81s/it]"
          ]
        },
        {
          "output_type": "stream",
          "name": "stdout",
          "text": [
            "{'Model': 'ExtraTreesRegressor', 'R-Squared': -0.05698340303126326, 'Adjusted R-Squared': -0.1291001203986617, 'RMSE': 0.6655725072259138, 'Time taken': 7.042081117630005}\n",
            "{'Model': 'GammaRegressor', 'R-Squared': 0.0521216730054096, 'Adjusted R-Squared': -0.012550935107936034, 'RMSE': 0.63028589308158, 'Time taken': 0.04690885543823242}\n"
          ]
        },
        {
          "output_type": "stream",
          "name": "stderr",
          "text": [
            "\r 25%|██▍       | 13/53 [00:25<02:58,  4.47s/it]"
          ]
        },
        {
          "output_type": "stream",
          "name": "stdout",
          "text": [
            "{'Model': 'GaussianProcessRegressor', 'R-Squared': -12.597086828832508, 'Adjusted R-Squared': -13.524799851612949, 'RMSE': 2.3871748247418747, 'Time taken': 16.706206560134888}\n"
          ]
        },
        {
          "output_type": "stream",
          "name": "stderr",
          "text": [
            "\r 26%|██▋       | 14/53 [00:26<02:23,  3.67s/it]"
          ]
        },
        {
          "output_type": "stream",
          "name": "stdout",
          "text": [
            "{'Model': 'GradientBoostingRegressor', 'R-Squared': 0.08422256170437359, 'Adjusted R-Squared': 0.02174015895367265, 'RMSE': 0.6195213250250658, 'Time taken': 0.8842208385467529}\n"
          ]
        },
        {
          "output_type": "stream",
          "name": "stderr",
          "text": [
            " 30%|███       | 16/53 [00:28<01:24,  2.29s/it]"
          ]
        },
        {
          "output_type": "stream",
          "name": "stdout",
          "text": [
            "{'Model': 'HistGradientBoostingRegressor', 'R-Squared': 0.14776005872678688, 'Adjusted R-Squared': 0.08961274364336291, 'RMSE': 0.5976435438505837, 'Time taken': 1.1027934551239014}\n",
            "{'Model': 'HuberRegressor', 'R-Squared': 0.05351024325145637, 'Adjusted R-Squared': -0.011067624369567763, 'RMSE': 0.6298240632391803, 'Time taken': 0.10912775993347168}\n",
            "IsotonicRegression model failed to execute\n",
            "Isotonic regression input X should be a 1d array or 2d array with 1 feature\n"
          ]
        },
        {
          "output_type": "stream",
          "name": "stderr",
          "text": [
            "\r 34%|███▍      | 18/53 [00:28<00:48,  1.39s/it]"
          ]
        },
        {
          "output_type": "stream",
          "name": "stdout",
          "text": [
            "{'Model': 'KNeighborsRegressor', 'R-Squared': 0.0057853562214117416, 'Adjusted R-Squared': -0.06204872354018742, 'RMSE': 0.6455076121700185, 'Time taken': 0.27655625343322754}\n"
          ]
        },
        {
          "output_type": "stream",
          "name": "stderr",
          "text": [
            "\r 36%|███▌      | 19/53 [00:32<01:09,  2.03s/it]"
          ]
        },
        {
          "output_type": "stream",
          "name": "stdout",
          "text": [
            "{'Model': 'KernelRidge', 'R-Squared': -33.90322045385474, 'Adjusted R-Squared': -36.284625570968196, 'RMSE': 3.8246706263071357, 'Time taken': 4.162345886230469}\n",
            "{'Model': 'Lars', 'R-Squared': 0.05993134284737678, 'Adjusted R-Squared': -0.004208420803973878, 'RMSE': 0.6276840266483328, 'Time taken': 0.07888507843017578}\n"
          ]
        },
        {
          "output_type": "stream",
          "name": "stderr",
          "text": [
            "\r 40%|███▉      | 21/53 [00:32<00:41,  1.31s/it]"
          ]
        },
        {
          "output_type": "stream",
          "name": "stdout",
          "text": [
            "{'Model': 'LarsCV', 'R-Squared': 0.052970238526877655, 'Adjusted R-Squared': -0.01164447297266702, 'RMSE': 0.63000370568666, 'Time taken': 0.33993053436279297}\n",
            "{'Model': 'Lasso', 'R-Squared': -0.00011606519349660616, 'Adjusted R-Squared': -0.06835279190208121, 'RMSE': 0.6474205674074496, 'Time taken': 0.04715776443481445}\n"
          ]
        },
        {
          "output_type": "stream",
          "name": "stderr",
          "text": [
            "\r 43%|████▎     | 23/53 [00:33<00:27,  1.09it/s]"
          ]
        },
        {
          "output_type": "stream",
          "name": "stdout",
          "text": [
            "{'Model': 'LassoCV', 'R-Squared': 0.054373533719381584, 'Adjusted R-Squared': -0.010145432622300943, 'RMSE': 0.629536767394424, 'Time taken': 0.44517064094543457}\n",
            "{'Model': 'LassoLars', 'R-Squared': -0.00011606519349660616, 'Adjusted R-Squared': -0.06835279190208121, 'RMSE': 0.6474205674074496, 'Time taken': 0.08614635467529297}\n"
          ]
        },
        {
          "output_type": "stream",
          "name": "stderr",
          "text": [
            " 49%|████▉     | 26/53 [00:34<00:15,  1.73it/s]"
          ]
        },
        {
          "output_type": "stream",
          "name": "stdout",
          "text": [
            "{'Model': 'LassoLarsCV', 'R-Squared': 0.052970238526877655, 'Adjusted R-Squared': -0.01164447297266702, 'RMSE': 0.63000370568666, 'Time taken': 0.3440392017364502}\n",
            "{'Model': 'LassoLarsIC', 'R-Squared': 0.051942202393856274, 'Adjusted R-Squared': -0.012742650785336318, 'RMSE': 0.6303455591998779, 'Time taken': 0.14775586128234863}\n"
          ]
        },
        {
          "output_type": "stream",
          "name": "stderr",
          "text": [
            "\r 51%|█████     | 27/53 [00:34<00:12,  2.07it/s]"
          ]
        },
        {
          "output_type": "stream",
          "name": "stdout",
          "text": [
            "{'Model': 'LinearRegression', 'R-Squared': 0.05967490514972662, 'Adjusted R-Squared': -0.004482354939988831, 'RMSE': 0.6277696325611976, 'Time taken': 0.13776040077209473}\n"
          ]
        },
        {
          "output_type": "stream",
          "name": "stderr",
          "text": [
            "\r 53%|█████▎    | 28/53 [00:36<00:21,  1.15it/s]"
          ]
        },
        {
          "output_type": "stream",
          "name": "stdout",
          "text": [
            "{'Model': 'LinearSVR', 'R-Squared': 0.04723918041300712, 'Adjusted R-Squared': -0.017766554348614072, 'RMSE': 0.6319070998520131, 'Time taken': 2.1034159660339355}\n"
          ]
        },
        {
          "output_type": "stream",
          "name": "stderr",
          "text": [
            " 62%|██████▏   | 33/53 [00:44<00:22,  1.14s/it]"
          ]
        },
        {
          "output_type": "stream",
          "name": "stdout",
          "text": [
            "{'Model': 'MLPRegressor', 'R-Squared': -0.045704947648404604, 'Adjusted R-Squared': -0.11705214945212083, 'RMSE': 0.6620120151312332, 'Time taken': 8.282472133636475}\n",
            "MultiOutputRegressor model failed to execute\n",
            "__init__() missing 1 required positional argument: 'estimator'\n",
            "MultiTaskElasticNet model failed to execute\n",
            "For mono-task outputs, use ElasticNet\n",
            "MultiTaskElasticNetCV model failed to execute\n",
            "For mono-task outputs, use ElasticNetCVCV\n",
            "MultiTaskLasso model failed to execute\n",
            "For mono-task outputs, use ElasticNet\n",
            "MultiTaskLassoCV model failed to execute\n",
            "For mono-task outputs, use LassoCVCV\n"
          ]
        },
        {
          "output_type": "stream",
          "name": "stderr",
          "text": [
            " 70%|██████▉   | 37/53 [00:48<00:16,  1.00s/it]"
          ]
        },
        {
          "output_type": "stream",
          "name": "stdout",
          "text": [
            "{'Model': 'NuSVR', 'R-Squared': 0.1487844900687092, 'Adjusted R-Squared': 0.09070707071433437, 'RMSE': 0.5972842384219305, 'Time taken': 3.925266742706299}\n",
            "{'Model': 'OrthogonalMatchingPursuit', 'R-Squared': 0.021039495628709992, 'Adjusted R-Squared': -0.04575381238835252, 'RMSE': 0.6405364900790996, 'Time taken': 0.0482478141784668}\n",
            "{'Model': 'OrthogonalMatchingPursuitCV', 'R-Squared': 0.018299864247421915, 'Adjusted R-Squared': -0.04868036555237509, 'RMSE': 0.6414321379861649, 'Time taken': 0.13735246658325195}\n"
          ]
        },
        {
          "output_type": "stream",
          "name": "stderr",
          "text": [
            "\r 74%|███████▎  | 39/53 [00:48<00:10,  1.38it/s]"
          ]
        },
        {
          "output_type": "stream",
          "name": "stdout",
          "text": [
            "{'Model': 'PLSCanonical', 'R-Squared': -0.7363302639735516, 'Adjusted R-Squared': -0.8547980076905617, 'RMSE': 0.8530558346805078, 'Time taken': 0.056014299392700195}\n",
            "{'Model': 'PLSRegression', 'R-Squared': 0.06276178358155537, 'Adjusted R-Squared': -0.00118486247318339, 'RMSE': 0.6267383713798681, 'Time taken': 0.0764920711517334}\n",
            "{'Model': 'PassiveAggressiveRegressor', 'R-Squared': -1.1344410127505675, 'Adjusted R-Squared': -1.280071378196678, 'RMSE': 0.9458088400817918, 'Time taken': 0.08241438865661621}\n"
          ]
        },
        {
          "output_type": "stream",
          "name": "stderr",
          "text": [
            "\r 77%|███████▋  | 41/53 [00:49<00:06,  1.89it/s]"
          ]
        },
        {
          "output_type": "stream",
          "name": "stdout",
          "text": [
            "{'Model': 'PoissonRegressor', 'R-Squared': 0.061949278534839225, 'Adjusted R-Squared': -0.0020528037705025426, 'RMSE': 0.6270099767008818, 'Time taken': 0.06162738800048828}\n",
            "{'Model': 'RANSACRegressor', 'R-Squared': -4.4620565397257267e+24, 'Adjusted R-Squared': -4.7664973374051527e+24, 'RMSE': 1367504691028.9175, 'Time taken': 0.897310733795166}\n"
          ]
        },
        {
          "output_type": "stream",
          "name": "stderr",
          "text": [
            "\r 81%|████████  | 43/53 [00:50<00:05,  1.83it/s]"
          ]
        },
        {
          "output_type": "stream",
          "name": "stdout",
          "text": [
            "RadiusNeighborsRegressor model failed to execute\n",
            "Input contains NaN, infinity or a value too large for dtype('float64').\n"
          ]
        },
        {
          "output_type": "stream",
          "name": "stderr",
          "text": [
            "\r 83%|████████▎ | 44/53 [00:55<00:11,  1.30s/it]"
          ]
        },
        {
          "output_type": "stream",
          "name": "stdout",
          "text": [
            "{'Model': 'RandomForestRegressor', 'R-Squared': 0.21862733954000446, 'Adjusted R-Squared': 0.16531521453274078, 'RMSE': 0.5722560542850893, 'Time taken': 4.836252450942993}\n",
            "RegressorChain model failed to execute\n",
            "__init__() missing 1 required positional argument: 'base_estimator'\n",
            "{'Model': 'Ridge', 'R-Squared': 0.0599346983318928, 'Adjusted R-Squared': -0.00420483637874991, 'RMSE': 0.6276829064184986, 'Time taken': 0.041272640228271484}\n"
          ]
        },
        {
          "output_type": "stream",
          "name": "stderr",
          "text": [
            " 91%|█████████ | 48/53 [00:55<00:03,  1.51it/s]"
          ]
        },
        {
          "output_type": "stream",
          "name": "stdout",
          "text": [
            "{'Model': 'RidgeCV', 'R-Squared': 0.05996464911533195, 'Adjusted R-Squared': -0.004172842089066542, 'RMSE': 0.6276729072490218, 'Time taken': 0.17548084259033203}\n",
            "{'Model': 'SGDRegressor', 'R-Squared': -2347289.971275912, 'Adjusted R-Squared': -2507442.835615206, 'RMSE': 991.847160669111, 'Time taken': 0.10098505020141602}\n"
          ]
        },
        {
          "output_type": "stream",
          "name": "stderr",
          "text": [
            "100%|██████████| 53/53 [00:59<00:00,  1.13s/it]"
          ]
        },
        {
          "output_type": "stream",
          "name": "stdout",
          "text": [
            "{'Model': 'SVR', 'R-Squared': 0.1476606136906865, 'Adjusted R-Squared': 0.0895065135910158, 'RMSE': 0.5976784113493162, 'Time taken': 4.004381418228149}\n",
            "StackingRegressor model failed to execute\n",
            "__init__() missing 1 required positional argument: 'estimators'\n",
            "{'Model': 'TransformedTargetRegressor', 'R-Squared': 0.05967490514972662, 'Adjusted R-Squared': -0.004482354939988831, 'RMSE': 0.6277696325611976, 'Time taken': 0.07575130462646484}\n",
            "{'Model': 'TweedieRegressor', 'R-Squared': 0.05197174002413296, 'Adjusted R-Squared': -0.012711097837762919, 'RMSE': 0.6303357396197078, 'Time taken': 0.09615874290466309}\n",
            "VotingRegressor model failed to execute\n",
            "__init__() missing 1 required positional argument: 'estimators'\n"
          ]
        },
        {
          "output_type": "stream",
          "name": "stderr",
          "text": [
            "\n"
          ]
        }
      ],
      "source": [
        "# PREDICTING RATINGS\n",
        "# Using lazypredict to benchmark several regression algorithms using R2-score as metric. The best one will be selected for train and inference\n",
        "\n",
        "# Excluding those which takes a huge amount of time (and give low R2-score)\n",
        "\n",
        "excluded_regressors = [\n",
        "    'QuantileRegressor', 'TheilSenRegressor'\n",
        "]\n",
        "\n",
        "REGRESSORS = [\n",
        "    est\n",
        "    for est in all_estimators()\n",
        "    if (issubclass(est[1], RegressorMixin) and (est[0] not in excluded_regressors))\n",
        "]\n",
        "\n",
        "# Prepare dataset\n",
        "X_lazy = df_rating.drop(columns=['Job Title', 'Salary Estimate', 'Job Description', 'Location', 'Rating', 'Headquarters', 'Size', 'scope_DataAnalyst', 'scope_DataEngineer', \n",
        "                        'scope_DataScientist', 'desc_words', 'salary'])\n",
        "y_lazy = df_rating['Rating']\n",
        "X_lazy = X_lazy.astype(float)\n",
        "\n",
        "X_train, X_test, y_train, y_test = train_test_split(X_lazy, y_lazy, test_size=test_set_size)\n",
        "\n",
        "reg = LazyRegressor(verbose=1,ignore_warnings=False, custom_metric=None, regressors=REGRESSORS)\n",
        "models, predictions = reg.fit(X_train, X_test, y_train, y_test)"
      ]
    },
    {
      "cell_type": "code",
      "execution_count": 22,
      "metadata": {
        "id": "Tdz4uJ_HlqOY",
        "colab": {
          "base_uri": "https://localhost:8080/"
        },
        "outputId": "48908634-e001-4b97-c65d-cd04482d448b"
      },
      "outputs": [
        {
          "output_type": "stream",
          "name": "stdout",
          "text": [
            "                                         Adjusted R-Squared  \\\n",
            "Model                                                         \n",
            "RandomForestRegressor                                  0.17   \n",
            "BaggingRegressor                                       0.12   \n",
            "NuSVR                                                  0.09   \n",
            "HistGradientBoostingRegressor                          0.09   \n",
            "SVR                                                    0.09   \n",
            "GradientBoostingRegressor                              0.02   \n",
            "PLSRegression                                         -0.00   \n",
            "PoissonRegressor                                      -0.00   \n",
            "BayesianRidge                                         -0.00   \n",
            "RidgeCV                                               -0.00   \n",
            "Ridge                                                 -0.00   \n",
            "Lars                                                  -0.00   \n",
            "TransformedTargetRegressor                            -0.00   \n",
            "LinearRegression                                      -0.00   \n",
            "LassoCV                                               -0.01   \n",
            "ElasticNetCV                                          -0.01   \n",
            "HuberRegressor                                        -0.01   \n",
            "LassoLarsCV                                           -0.01   \n",
            "LarsCV                                                -0.01   \n",
            "GammaRegressor                                        -0.01   \n",
            "TweedieRegressor                                      -0.01   \n",
            "LassoLarsIC                                           -0.01   \n",
            "ARDRegression                                         -0.01   \n",
            "LinearSVR                                             -0.02   \n",
            "OrthogonalMatchingPursuit                             -0.05   \n",
            "OrthogonalMatchingPursuitCV                           -0.05   \n",
            "KNeighborsRegressor                                   -0.06   \n",
            "LassoLars                                             -0.07   \n",
            "Lasso                                                 -0.07   \n",
            "DummyRegressor                                        -0.07   \n",
            "ElasticNet                                            -0.07   \n",
            "AdaBoostRegressor                                     -0.10   \n",
            "MLPRegressor                                          -0.12   \n",
            "ExtraTreesRegressor                                   -0.13   \n",
            "ExtraTreeRegressor                                    -0.17   \n",
            "DecisionTreeRegressor                                 -0.19   \n",
            "CCA                                                   -0.60   \n",
            "PLSCanonical                                          -0.85   \n",
            "PassiveAggressiveRegressor                            -1.28   \n",
            "GaussianProcessRegressor                             -13.52   \n",
            "KernelRidge                                          -36.28   \n",
            "SGDRegressor                                    -2507442.84   \n",
            "RANSACRegressor               -4766497337405152700661760.00   \n",
            "\n",
            "                                                  R-Squared             RMSE  \\\n",
            "Model                                                                          \n",
            "RandomForestRegressor                                  0.22             0.57   \n",
            "BaggingRegressor                                       0.17             0.59   \n",
            "NuSVR                                                  0.15             0.60   \n",
            "HistGradientBoostingRegressor                          0.15             0.60   \n",
            "SVR                                                    0.15             0.60   \n",
            "GradientBoostingRegressor                              0.08             0.62   \n",
            "PLSRegression                                          0.06             0.63   \n",
            "PoissonRegressor                                       0.06             0.63   \n",
            "BayesianRidge                                          0.06             0.63   \n",
            "RidgeCV                                                0.06             0.63   \n",
            "Ridge                                                  0.06             0.63   \n",
            "Lars                                                   0.06             0.63   \n",
            "TransformedTargetRegressor                             0.06             0.63   \n",
            "LinearRegression                                       0.06             0.63   \n",
            "LassoCV                                                0.05             0.63   \n",
            "ElasticNetCV                                           0.05             0.63   \n",
            "HuberRegressor                                         0.05             0.63   \n",
            "LassoLarsCV                                            0.05             0.63   \n",
            "LarsCV                                                 0.05             0.63   \n",
            "GammaRegressor                                         0.05             0.63   \n",
            "TweedieRegressor                                       0.05             0.63   \n",
            "LassoLarsIC                                            0.05             0.63   \n",
            "ARDRegression                                          0.05             0.63   \n",
            "LinearSVR                                              0.05             0.63   \n",
            "OrthogonalMatchingPursuit                              0.02             0.64   \n",
            "OrthogonalMatchingPursuitCV                            0.02             0.64   \n",
            "KNeighborsRegressor                                    0.01             0.65   \n",
            "LassoLars                                             -0.00             0.65   \n",
            "Lasso                                                 -0.00             0.65   \n",
            "DummyRegressor                                        -0.00             0.65   \n",
            "ElasticNet                                            -0.00             0.65   \n",
            "AdaBoostRegressor                                     -0.03             0.66   \n",
            "MLPRegressor                                          -0.05             0.66   \n",
            "ExtraTreesRegressor                                   -0.06             0.67   \n",
            "ExtraTreeRegressor                                    -0.10             0.68   \n",
            "DecisionTreeRegressor                                 -0.11             0.68   \n",
            "CCA                                                   -0.50             0.79   \n",
            "PLSCanonical                                          -0.74             0.85   \n",
            "PassiveAggressiveRegressor                            -1.13             0.95   \n",
            "GaussianProcessRegressor                             -12.60             2.39   \n",
            "KernelRidge                                          -33.90             3.82   \n",
            "SGDRegressor                                    -2347289.97           991.85   \n",
            "RANSACRegressor               -4462056539725726721507328.00 1367504691028.92   \n",
            "\n",
            "                               Time Taken  \n",
            "Model                                      \n",
            "RandomForestRegressor                4.84  \n",
            "BaggingRegressor                     0.57  \n",
            "NuSVR                                3.93  \n",
            "HistGradientBoostingRegressor        1.10  \n",
            "SVR                                  4.00  \n",
            "GradientBoostingRegressor            0.88  \n",
            "PLSRegression                        0.08  \n",
            "PoissonRegressor                     0.06  \n",
            "BayesianRidge                        0.17  \n",
            "RidgeCV                              0.18  \n",
            "Ridge                                0.04  \n",
            "Lars                                 0.08  \n",
            "TransformedTargetRegressor           0.08  \n",
            "LinearRegression                     0.14  \n",
            "LassoCV                              0.45  \n",
            "ElasticNetCV                         0.39  \n",
            "HuberRegressor                       0.11  \n",
            "LassoLarsCV                          0.34  \n",
            "LarsCV                               0.34  \n",
            "GammaRegressor                       0.05  \n",
            "TweedieRegressor                     0.10  \n",
            "LassoLarsIC                          0.15  \n",
            "ARDRegression                        0.08  \n",
            "LinearSVR                            2.10  \n",
            "OrthogonalMatchingPursuit            0.05  \n",
            "OrthogonalMatchingPursuitCV          0.14  \n",
            "KNeighborsRegressor                  0.28  \n",
            "LassoLars                            0.09  \n",
            "Lasso                                0.05  \n",
            "DummyRegressor                       0.03  \n",
            "ElasticNet                           0.04  \n",
            "AdaBoostRegressor                    0.38  \n",
            "MLPRegressor                         8.28  \n",
            "ExtraTreesRegressor                  7.04  \n",
            "ExtraTreeRegressor                   0.17  \n",
            "DecisionTreeRegressor                0.16  \n",
            "CCA                                  0.15  \n",
            "PLSCanonical                         0.06  \n",
            "PassiveAggressiveRegressor           0.08  \n",
            "GaussianProcessRegressor            16.71  \n",
            "KernelRidge                          4.16  \n",
            "SGDRegressor                         0.10  \n",
            "RANSACRegressor                      0.90  \n"
          ]
        }
      ],
      "source": [
        "# Printing final result of lazypredict\n",
        "\n",
        "print(models)"
      ]
    },
    {
      "cell_type": "code",
      "execution_count": 23,
      "metadata": {
        "id": "D4nzTy1jmliT",
        "colab": {
          "base_uri": "https://localhost:8080/"
        },
        "outputId": "02c2c8dc-3860-40bd-9454-32c034863944"
      },
      "outputs": [
        {
          "output_type": "stream",
          "name": "stdout",
          "text": [
            "R2-score:  0.10759220318083773\n",
            "Mean error in prediction:  0.4526162192283656\n",
            "Prediction error variance:  0.6115217077375872\n",
            "Max, min, domain:  5.0 ,  1.0 ,  4.0\n",
            "Mean error in prediction (%):  0.1131540548070914\n",
            "Prediction error variance (%):  0.1528804269343968\n"
          ]
        }
      ],
      "source": [
        "# The regression algorithm RandomForestRegressor is the one to be used\n",
        "\n",
        "model_rating = RandomForestRegressor(max_depth=10).fit(X_train, y_train)\n",
        "test_prediction = model_rating.predict(X_test)\n",
        "\n",
        "# Evaluate result\n",
        "\n",
        "R2 = model_rating.score(X_test, y_test)\n",
        "\n",
        "average = np.mean(abs(y_test - test_prediction))\n",
        "sigma = np.std((y_test - test_prediction))\n",
        "\n",
        "max = np.max(df_rating['Rating'].values.tolist())\n",
        "min = np.min(df_rating['Rating'].values.tolist())\n",
        "domain = max - min\n",
        "\n",
        "print('R2-score: ', R2)\n",
        "print('Mean error in prediction: ', average)\n",
        "print('Prediction error variance: ', sigma)\n",
        "print('Max, min, domain: ', max, \", \", min, \", \", domain)\n",
        "\n",
        "print('Mean error in prediction (%): ', average/domain)\n",
        "print('Prediction error variance (%): ', sigma/domain) "
      ]
    },
    {
      "cell_type": "code",
      "source": [
        "# Saving the model\n",
        "joblib.dump(model_rating, \"models/model_rating.joblib\")\n",
        "\n",
        "with open(\"models/model_rating.joblib\", 'rb') as f_in, gzip.open(\"models/model_rating.joblib.gz\", 'wb') as f_out:\n",
        "    f_out.writelines(f_in)"
      ],
      "metadata": {
        "id": "OdfaYqdtvGZU"
      },
      "execution_count": 24,
      "outputs": []
    },
    {
      "cell_type": "code",
      "execution_count": 25,
      "metadata": {
        "id": "cBP3-Z0qmliX",
        "colab": {
          "base_uri": "https://localhost:8080/"
        },
        "outputId": "8e10da5d-2598-40fd-baf6-b9fd4cb9f661"
      },
      "outputs": [
        {
          "output_type": "execute_result",
          "data": {
            "text/plain": [
              "array([3.92853537])"
            ]
          },
          "metadata": {},
          "execution_count": 25
        }
      ],
      "source": [
        "# One case inference code: getting rating of a random user\n",
        "\n",
        "# Inference params\n",
        "number_of_abilities = 15\n",
        "scope_example = 2.0\n",
        "\n",
        "columns = X_train.columns.values.tolist()\n",
        "total_abilities = len(columns) - 1\n",
        "\n",
        "abilities_indexes = [randint(0, (total_abilities - 1)) for p in range(0, number_of_abilities)]\n",
        "abilities = [0.0] * (total_abilities)\n",
        "\n",
        "for ab in abilities_indexes:\n",
        "  abilities[ab] = 1.0\n",
        "\n",
        "list_row = [scope_example] + abilities\n",
        "\n",
        "X_row = X_train[0:0]\n",
        "X_row.loc[len(X_row)] = list_row\n",
        "\n",
        "predictions = model_rating.predict(X_row)\n",
        "predictions"
      ]
    }
  ],
  "metadata": {
    "colab": {
      "provenance": []
    },
    "kernelspec": {
      "display_name": "Python 3",
      "name": "python3"
    },
    "language_info": {
      "name": "python"
    }
  },
  "nbformat": 4,
  "nbformat_minor": 0
}